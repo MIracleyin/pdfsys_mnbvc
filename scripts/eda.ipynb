{
 "cells": [
  {
   "cell_type": "markdown",
   "id": "db7db067",
   "metadata": {},
   "source": [
    "# Exploratory data analysis for MNBVC PDF"
   ]
  }
 ],
 "metadata": {
  "language_info": {
   "name": "python"
  }
 },
 "nbformat": 4,
 "nbformat_minor": 5
}
